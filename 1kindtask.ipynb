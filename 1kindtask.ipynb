{
 "cells": [
  {
   "cell_type": "code",
   "execution_count": 1,
   "metadata": {},
   "outputs": [],
   "source": [
    "## Importation\n",
    "import requests\n",
    "from bs4 import BeautifulSoup\n",
    "import pandas as pd\n",
    "import os\n",
    "\n"
   ]
  },
  {
   "cell_type": "code",
   "execution_count": 3,
   "metadata": {},
   "outputs": [
    {
     "name": "stderr",
     "output_type": "stream",
     "text": [
      "UsageError: Line magic function `%%Getting` not found.\n"
     ]
    }
   ],
   "source": [
    "## request for site mainpage and category pages\n",
    "%%Getting Main Site\n",
    "abcsite = 'https://www.abc.net.au'\n",
    "init = requests.get(abcsite+'/news/')\n",
    "f = open(\"/abc/mainpage.html\", \"w\")\n",
    "f.write(init.text)\n",
    "f.close()\n",
    "%% get site category and pages\n",
    "s = BeautifulSoup(init.text,'lxml')\n",
    "abc_cate=s.find_all('a',class_='_3cShj _2p6Xq')\n",
    "abc_cates_href =[]\n",
    "abc_cates = []\n",
    "for i in abc_cate:\n",
    "    if i['href'] not in abc_cates_href:\n",
    "        abc_cates.append({'name':i.text,'href':i['href'],'mainpage':requests.get(abcsite+i['href'])})\n",
    "##print (abc_cates)"
   ]
  },
  {
   "cell_type": "code",
   "execution_count": 17,
   "metadata": {},
   "outputs": [
    {
     "ename": "AttributeError",
     "evalue": "'Response' object has no attribute 'body'",
     "output_type": "error",
     "traceback": [
      "\u001b[1;31m---------------------------------------------------------------------------\u001b[0m",
      "\u001b[1;31mAttributeError\u001b[0m                            Traceback (most recent call last)",
      "\u001b[1;32mf:\\Users\\robin\\Desktop\\DE\\1kindtask.ipynb Cell 2\u001b[0m in \u001b[0;36m<cell line: 9>\u001b[1;34m()\u001b[0m\n\u001b[0;32m      <a href='vscode-notebook-cell:/f%3A/Users/robin/Desktop/DE/1kindtask.ipynb#ch0000001?line=7'>8</a>\u001b[0m abc_cates\n\u001b[0;32m      <a href='vscode-notebook-cell:/f%3A/Users/robin/Desktop/DE/1kindtask.ipynb#ch0000001?line=8'>9</a>\u001b[0m \u001b[39mfor\u001b[39;00m i \u001b[39min\u001b[39;00m abc_cates:\n\u001b[1;32m---> <a href='vscode-notebook-cell:/f%3A/Users/robin/Desktop/DE/1kindtask.ipynb#ch0000001?line=9'>10</a>\u001b[0m     \u001b[39mprint\u001b[39m(i[\u001b[39m'\u001b[39;49m\u001b[39mmainpage\u001b[39;49m\u001b[39m'\u001b[39;49m]\u001b[39m.\u001b[39;49mbody)\n",
      "\u001b[1;31mAttributeError\u001b[0m: 'Response' object has no attribute 'body'"
     ]
    }
   ],
   "source": [
    "## get site categories\n",
    "%%\n",
    "for i in abc_cates:\n",
    "    currentsoup = BeautifulSoup(i['mainpage'].text,'lxml')\n",
    "    current_cate_article = currentsoup.find_all('a',class_='_2VA9J u0kBv _3CtDL _1_pW8 _3Fvo9 VjkbJ')\n",
    "\n"
   ]
  },
  {
   "cell_type": "code",
   "execution_count": 1,
   "metadata": {},
   "outputs": [
    {
     "ename": "NameError",
     "evalue": "name 'BeautifulSoup' is not defined",
     "output_type": "error",
     "traceback": [
      "\u001b[1;31m---------------------------------------------------------------------------\u001b[0m",
      "\u001b[1;31mNameError\u001b[0m                                 Traceback (most recent call last)",
      "\u001b[1;32mf:\\Users\\robin\\Desktop\\DE\\1kindtask.ipynb Cell 4\u001b[0m in \u001b[0;36m<cell line: 1>\u001b[1;34m()\u001b[0m\n\u001b[1;32m----> <a href='vscode-notebook-cell:/f%3A/Users/robin/Desktop/DE/1kindtask.ipynb#ch0000003?line=0'>1</a>\u001b[0m testsoup \u001b[39m=\u001b[39m BeautifulSoup(abc_cates[\u001b[39m0\u001b[39m][\u001b[39m'\u001b[39m\u001b[39mmainpage\u001b[39m\u001b[39m'\u001b[39m]\u001b[39m.\u001b[39mtext,\u001b[39m'\u001b[39m\u001b[39mlxml\u001b[39m\u001b[39m'\u001b[39m)\n\u001b[0;32m      <a href='vscode-notebook-cell:/f%3A/Users/robin/Desktop/DE/1kindtask.ipynb#ch0000003?line=1'>2</a>\u001b[0m testsoup\u001b[39m.\u001b[39mfind_all(\u001b[39m'\u001b[39m\u001b[39ma\u001b[39m\u001b[39m'\u001b[39m,class_\u001b[39m=\u001b[39m\u001b[39m'\u001b[39m\u001b[39m_2VA9J u0kBv _3CtDL _1_pW8 _3Fvo9 VjkbJ\u001b[39m\u001b[39m'\u001b[39m)\n",
      "\u001b[1;31mNameError\u001b[0m: name 'BeautifulSoup' is not defined"
     ]
    }
   ],
   "source": [
    "testsoup = BeautifulSoup(abc_cates[0]['mainpage'].text,'lxml')\n",
    "testsoup.find_all('a',class_='_2VA9J u0kBv _3CtDL _1_pW8 _3Fvo9 VjkbJ')\n"
   ]
  }
 ],
 "metadata": {
  "kernelspec": {
   "display_name": "Python 3.8.11 ('TF')",
   "language": "python",
   "name": "python3"
  },
  "language_info": {
   "codemirror_mode": {
    "name": "ipython",
    "version": 3
   },
   "file_extension": ".py",
   "mimetype": "text/x-python",
   "name": "python",
   "nbconvert_exporter": "python",
   "pygments_lexer": "ipython3",
   "version": "3.8.11"
  },
  "orig_nbformat": 4,
  "vscode": {
   "interpreter": {
    "hash": "330ab21e688ad3dec2da552baa6632946f4e482a7315aa3e49055922f2d54915"
   }
  }
 },
 "nbformat": 4,
 "nbformat_minor": 2
}
