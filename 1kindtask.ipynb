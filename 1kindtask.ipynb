{
 "cells": [
  {
   "cell_type": "code",
   "execution_count": 1,
   "metadata": {},
   "outputs": [],
   "source": [
    "## Importation\n",
    "import requests\n",
    "from bs4 import BeautifulSoup\n",
    "import pandas as pd\n",
    "import os\n",
    "from datetime import datetime\n",
    "\n"
   ]
  },
  {
   "cell_type": "code",
   "execution_count": 2,
   "metadata": {},
   "outputs": [],
   "source": [
    "## request for site mainpage and category pages\n",
    "\n",
    "abcsite = 'https://www.abc.net.au'\n",
    "init = requests.get(abcsite+'/news/')\n",
    "f = open(\"news/abc/mainpage\"+str(datetime.now()).replace(':','-')+\".html\", \"w\")\n",
    "f.write(init.text)\n",
    "f.close()\n",
    "\n",
    "s = BeautifulSoup(init.text,'lxml')\n",
    "abc_cate=s.find_all('a',class_='_3cShj _2p6Xq')\n",
    "abc_cates_href =[]\n",
    "abc_cates = []\n",
    "for i in abc_cate:\n",
    "    if i['href'] not in abc_cates_href:\n",
    "        abc_cates.append({'name':i.text,'href':i['href'],'mainpage':requests.get(abcsite+i['href'])})\n",
    "##print (abc_cates)"
   ]
  },
  {
   "cell_type": "code",
   "execution_count": 3,
   "metadata": {},
   "outputs": [],
   "source": [
    "## get site categories\n",
    "for i in abc_cates:\n",
    "    currentsoup = BeautifulSoup(i['mainpage'].text,'lxml')\n",
    "    current_cate_article = currentsoup.find_all('a',class_='_2VA9J u0kBv _3CtDL _1_pW8 _3Fvo9 VjkbJ')\n",
    "\n"
   ]
  },
  {
   "cell_type": "code",
   "execution_count": 4,
   "metadata": {},
   "outputs": [
    {
     "data": {
      "text/plain": [
       "{'name': 'Just In', 'href': '/news/justin/', 'mainpage': <Response [200]>}"
      ]
     },
     "execution_count": 4,
     "metadata": {},
     "output_type": "execute_result"
    }
   ],
   "source": [
    "testsoup = BeautifulSoup(abc_cates[0]['mainpage'].text,'lxml')\n",
    "cate_news = testsoup.find_all('a',class_='_2VA9J u0kBv _3CtDL _1_pW8 _3Fvo9 VjkbJ')\n",
    "abc_cates[0]\n",
    "\n"
   ]
  },
  {
   "cell_type": "code",
   "execution_count": 5,
   "metadata": {},
   "outputs": [],
   "source": [
    "newsc = requests.get(abcsite+cate_news[0]['href'])\n",
    "newssoup = BeautifulSoup(newsc.text,'lxml')"
   ]
  },
  {
   "cell_type": "code",
   "execution_count": 6,
   "metadata": {},
   "outputs": [
    {
     "data": {
      "text/plain": [
       "[<p class=\"_1HzXw\">Chinese paddlefish and wild Yangtze sturgeon have officially been declared extinct by the International Union for Conservation of Nature (IUCN), drawing to a close a decades-long effort to save both river fish species.</p>,\n",
       " <p class=\"_1HzXw\">The IUCN's latest list of threatened species, published on its website on Thursday, showed that 100 per cent of the world's remaining 26 sturgeon species are now at risk of extinction, up from 85 per cent in 2009.</p>,\n",
       " <p class=\"_1HzXw\">\"The assessments are based on new calculations [that] show their decline over the past three generations to be steeper than previously thought,\" the conservation group said, adding that the reassessment had also confirmed the extinction of the Chinese paddlefish.</p>,\n",
       " <p class=\"_1HzXw\">Both the Chinese paddlefish and the Yangtze sturgeon — one of the oldest vertebrates in the world that has existed for more than 200 million years — were common species in the Yangtze River basin, which has been plagued by heavy shipping traffic, overfishing, and water pollution.</p>,\n",
       " <p class=\"_1HzXw\">The extinction of the two species became one of the most discussed topics on China's Weibo — a social media platform similar to Twitter — with users urging greater environmental protections.</p>,\n",
       " <p class=\"_1HzXw\">\"A biological population that lived for 150 million years was actually made extinct by modern civilisation? I want to ask: Where is our civilisation?\" one user posted.</p>,\n",
       " <p class=\"_1HzXw\">The Chinese paddlefish was one of the world's largest freshwater fish species and could grow up to 7 metres in length. The IUCN first declared it \"critically endangered\" in 1996.</p>,\n",
       " <p class=\"_1EAJU _3V31R _2L258 _1BqKa _25ANV hmFfs\" data-component=\"Typography\">The only known female member of one of the world's rarest turtle species dies at a zoo in southern China just one day after undergoing artificial insemination.</p>,\n",
       " <p class=\"_1HzXw\">The Yangtze sturgeon — which could grow up to 8 metres in length — was highly sensitive to increased noise on the river. Its meat was considered a delicacy in China and it was also fished as a source of caviar.</p>,\n",
       " <p class=\"_1HzXw\">\"Everyone, support the ban on fishing in the Yangtze River, and protect the habitats that are still in the Yangtze River,\" another Weibo user posted.</p>,\n",
       " <p class=\"_1HzXw\">Despite maintaining a breeding program for the sturgeons, the country has not been successful at maintaining them in the wild. China implemented a fishing ban in some parts of the Yangtze River in 2021.</p>,\n",
       " <p class=\"_1HzXw\">In 2005, more than 10,000 sturgeon fry, 200 junior sturgeon and two adult fish were released into the Yangtze River as part of a continued effort to repopulate the species' battered numbers. They were only the latest in the five million of the fish, bred in captivity, to have been released into the wild over the past two decades.</p>,\n",
       " <p class=\"_1HzXw\"><strong>ABC/Reuters</strong></p>]"
      ]
     },
     "execution_count": 6,
     "metadata": {},
     "output_type": "execute_result"
    }
   ],
   "source": [
    "news_title = newssoup.find('h1').text\n",
    "news_body = newssoup.find('div', id = 'body')\n",
    "news_body.find_all(class_='r6CUb u0kBv _3CtDL _1_pW8 _3Fvo9')\n",
    "news_topics = []\n",
    "for i in news_body.find_all(class_='r6CUb u0kBv _3CtDL _1_pW8 _3Fvo9'):\n",
    "    news_topics.append({'Label':i.text,'Link':i['href']})\n",
    "news_body.find_all('p' or 'a')    \n"
   ]
  },
  {
   "cell_type": "code",
   "execution_count": 7,
   "metadata": {},
   "outputs": [],
   "source": [
    "newssoup1 = BeautifulSoup(requests.get('https://www.abc.net.au/news/2022-07-22/new-york-washington-mayors-ask-biden-help-asylum-seekers/101262182').text,'lxml')\n",
    "news_body1 = newssoup1.find('div', id = 'body')\n",
    "news_body1.find_all(class_='r6CUb u0kBv _3CtDL _1_pW8 _3Fvo9')\n",
    "news_body1.find_all('p' or 'a')\n",
    "newssoup1.find('h1')\n",
    "newssoup1.find(class_='timestamp')"
   ]
  },
  {
   "cell_type": "code",
   "execution_count": 20,
   "metadata": {},
   "outputs": [
    {
     "data": {
      "text/plain": [
       "[<time aria-hidden=\"true\" class=\"_1EAJU _1NECW _2L258 _14LIk _3pVeq hmFfs _2F43D\" data-component=\"Timestamp\" datetime=\"2022-07-22T10:30:54.000Z\">41m ago</time>,\n",
       " <time aria-hidden=\"true\" class=\"_1EAJU _1NECW _2L258 _14LIk _3pVeq hmFfs _2F43D\" data-component=\"Timestamp\" datetime=\"2022-07-22T10:30:54.000Z\">41m ago</time>]"
      ]
     },
     "execution_count": 20,
     "metadata": {},
     "output_type": "execute_result"
    }
   ],
   "source": [
    "newssoup1.find_all(class_=\"_1EAJU _1NECW _2L258 _14LIk _3pVeq hmFfs _2F43D\" )"
   ]
  },
  {
   "cell_type": "code",
   "execution_count": 9,
   "metadata": {},
   "outputs": [
    {
     "data": {
      "text/plain": [
       "[<h2 class=\"_1EAJU hMmqO SYcM3 zwVFG _1BqKa _3AExf _3HiTE x9R1x pDrMR hmFfs _390V1\" data-component=\"Heading\">Asylum seekers are being 'tricked'</h2>,\n",
       " <h2 class=\"_1EAJU hMmqO SYcM3 zwVFG _1BqKa _3AExf _3HiTE x9R1x pDrMR hmFfs _390V1\" data-component=\"Heading\">Help needed for 'unprecedented surge'</h2>,\n",
       " <h2 class=\"_1EAJU hMmqO SYcM3 zwVFG _1BqKa _3AExf _3HiTE x9R1x pDrMR hmFfs _390V1\" data-component=\"Heading\">$4.3 billion security fails to stem flow </h2>]"
      ]
     },
     "execution_count": 9,
     "metadata": {},
     "output_type": "execute_result"
    }
   ],
   "source": [
    "news_body1.find_all(class_='_1EAJU hMmqO SYcM3 zwVFG _1BqKa _3AExf _3HiTE x9R1x pDrMR hmFfs _390V1')"
   ]
  }
 ],
 "metadata": {
  "kernelspec": {
   "display_name": "Python 3.8.11 ('TF')",
   "language": "python",
   "name": "python3"
  },
  "language_info": {
   "codemirror_mode": {
    "name": "ipython",
    "version": 3
   },
   "file_extension": ".py",
   "mimetype": "text/x-python",
   "name": "python",
   "nbconvert_exporter": "python",
   "pygments_lexer": "ipython3",
   "version": "3.8.11"
  },
  "orig_nbformat": 4,
  "vscode": {
   "interpreter": {
    "hash": "330ab21e688ad3dec2da552baa6632946f4e482a7315aa3e49055922f2d54915"
   }
  }
 },
 "nbformat": 4,
 "nbformat_minor": 2
}
